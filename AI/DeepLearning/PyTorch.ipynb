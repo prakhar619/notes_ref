{
 "cells": [
  {
   "cell_type": "code",
   "execution_count": 59,
   "metadata": {},
   "outputs": [
    {
     "name": "stdout",
     "output_type": "stream",
     "text": [
      "Tue Oct  1 23:13:18 2024       \n",
      "+-----------------------------------------------------------------------------------------+\n",
      "| NVIDIA-SMI 556.13                 Driver Version: 556.13         CUDA Version: 12.5     |\n",
      "|-----------------------------------------+------------------------+----------------------+\n",
      "| GPU  Name                  Driver-Model | Bus-Id          Disp.A | Volatile Uncorr. ECC |\n",
      "| Fan  Temp   Perf          Pwr:Usage/Cap |           Memory-Usage | GPU-Util  Compute M. |\n",
      "|                                         |                        |               MIG M. |\n",
      "|=========================================+========================+======================|\n",
      "|   0  NVIDIA GeForce RTX 3060 ...  WDDM  |   00000000:01:00.0 Off |                  N/A |\n",
      "| N/A   61C    P0             20W /   95W |       0MiB /   6144MiB |      0%      Default |\n",
      "|                                         |                        |                  N/A |\n",
      "+-----------------------------------------+------------------------+----------------------+\n",
      "                                                                                         \n",
      "+-----------------------------------------------------------------------------------------+\n",
      "| Processes:                                                                              |\n",
      "|  GPU   GI   CI        PID   Type   Process name                              GPU Memory |\n",
      "|        ID   ID                                                               Usage      |\n",
      "|=========================================================================================|\n",
      "|  No running processes found                                                             |\n",
      "+-----------------------------------------------------------------------------------------+\n"
     ]
    }
   ],
   "source": [
    "!nvidia-smi  "
   ]
  },
  {
   "cell_type": "code",
   "execution_count": 60,
   "metadata": {},
   "outputs": [],
   "source": [
    "import torch\n",
    "import pandas as pd\n",
    "import numpy as np\n",
    "import matplotlib.pyplot as plt "
   ]
  },
  {
   "cell_type": "code",
   "execution_count": 61,
   "metadata": {},
   "outputs": [
    {
     "data": {
      "text/plain": [
       "'2.3.0'"
      ]
     },
     "execution_count": 61,
     "metadata": {},
     "output_type": "execute_result"
    }
   ],
   "source": [
    "torch.__version__"
   ]
  },
  {
   "cell_type": "code",
   "execution_count": 62,
   "metadata": {},
   "outputs": [
    {
     "name": "stdout",
     "output_type": "stream",
     "text": [
      "tensor(7)\n",
      "0\n",
      "7\n",
      "torch.int64\n"
     ]
    }
   ],
   "source": [
    "#Scalars\n",
    "    #ndim = 0\n",
    "scalar = torch.tensor(7)\n",
    "print(scalar)\n",
    "print(scalar.ndim)\n",
    "print(scalar.item())\n",
    "print(scalar.dtype)"
   ]
  },
  {
   "cell_type": "code",
   "execution_count": 63,
   "metadata": {},
   "outputs": [
    {
     "name": "stdout",
     "output_type": "stream",
     "text": [
      "tensor([7, 7])\n",
      "1\n",
      "torch.Size([2])\n"
     ]
    }
   ],
   "source": [
    "#Vector\n",
    "    #ndim = 1\n",
    "    #shape = array size\n",
    "vector = torch.tensor((7,7))\n",
    "print(vector)\n",
    "print(vector.ndim)\n",
    "print(vector.shape)"
   ]
  },
  {
   "cell_type": "code",
   "execution_count": 64,
   "metadata": {},
   "outputs": [
    {
     "name": "stdout",
     "output_type": "stream",
     "text": [
      "tensor([[ 7,  8],\n",
      "        [ 9, 10]])\n",
      "2\n",
      "torch.Size([2, 2])\n"
     ]
    }
   ],
   "source": [
    "#matrix\n",
    "    #ndim = 2\n",
    "    #shape = row, col\n",
    "MATRIX = torch.tensor( [[7,8],[9,10]])\n",
    "print(MATRIX)\n",
    "print(MATRIX.ndim)\n",
    "print(MATRIX.shape)"
   ]
  },
  {
   "cell_type": "code",
   "execution_count": 65,
   "metadata": {},
   "outputs": [
    {
     "name": "stdout",
     "output_type": "stream",
     "text": [
      "tensor([[[ 1,  2,  3],\n",
      "         [ 4,  5,  6]],\n",
      "\n",
      "        [[ 7,  8,  9],\n",
      "         [10, 11, 12]]])\n",
      "3\n",
      "torch.Size([2, 2, 3])\n"
     ]
    }
   ],
   "source": [
    "#tensor\n",
    "    #ndim > 2\n",
    "    #shape\n",
    "TENSOR = torch.tensor( [[ [1,2,3],[4,5,6] ], [ [7,8,9],[10,11,12]] ])\n",
    "print(TENSOR)\n",
    "print(TENSOR.ndim)\n",
    "print(TENSOR.shape)"
   ]
  },
  {
   "cell_type": "code",
   "execution_count": 66,
   "metadata": {},
   "outputs": [
    {
     "name": "stdout",
     "output_type": "stream",
     "text": [
      "tensor([[0.4514, 0.0179, 0.9615, 0.9777],\n",
      "        [0.1247, 0.1697, 0.7914, 0.2555],\n",
      "        [0.9082, 0.1525, 0.0175, 0.6866]])\n",
      "tensor([[0.0705, 0.2933, 0.9574, 0.6566],\n",
      "        [0.0994, 0.7095, 0.2008, 0.1094],\n",
      "        [0.3602, 0.7010, 0.8705, 0.2519]])\n"
     ]
    }
   ],
   "source": [
    "#Random Tensor\n",
    "print(torch.rand(3,4))\n",
    "print(torch.rand(size=(3,4)))"
   ]
  },
  {
   "cell_type": "code",
   "execution_count": 67,
   "metadata": {},
   "outputs": [
    {
     "name": "stdout",
     "output_type": "stream",
     "text": [
      "tensor([[0., 0., 0.],\n",
      "        [0., 0., 0.]])\n",
      "tensor([[1., 1., 1., 1.],\n",
      "        [1., 1., 1., 1.]])\n"
     ]
    }
   ],
   "source": [
    "#01 Tensor\n",
    "print(torch.zeros(2,3))\n",
    "print(torch.ones(2,4))"
   ]
  },
  {
   "cell_type": "code",
   "execution_count": 68,
   "metadata": {},
   "outputs": [
    {
     "name": "stdout",
     "output_type": "stream",
     "text": [
      "tensor([0, 1, 2, 3, 4, 5, 6, 7, 8, 9])\n",
      "tensor([0, 2, 4, 6, 8])\n",
      "tensor([0, 0, 0, 0, 0, 0, 0, 0, 0, 0])\n"
     ]
    }
   ],
   "source": [
    "print(torch.arange(0,10))\n",
    "print(torch.arange(start=0,end=10,step=2))\n",
    "print(torch.zeros_like(input=torch.arange(0,10)))"
   ]
  },
  {
   "cell_type": "code",
   "execution_count": 69,
   "metadata": {},
   "outputs": [
    {
     "name": "stdout",
     "output_type": "stream",
     "text": [
      "tensor([3, 5, 6])\n",
      "torch.int64\n"
     ]
    }
   ],
   "source": [
    "tensorInt = torch.tensor([3,5,6],\n",
    "                   dtype=None,      # float32/float float64/double  float16/half (default)\n",
    "                   device=\"cpu\",     # \"cpu\"  \"cuda\"  None\n",
    "                   requires_grad=False) #\n",
    "print(tensorInt)\n",
    "print(tensorInt.dtype)"
   ]
  },
  {
   "cell_type": "code",
   "execution_count": 70,
   "metadata": {},
   "outputs": [
    {
     "name": "stdout",
     "output_type": "stream",
     "text": [
      "tensor([3., 5., 6.], dtype=torch.float16)\n"
     ]
    }
   ],
   "source": [
    "print(tensorInt.type(torch.float16))"
   ]
  },
  {
   "cell_type": "markdown",
   "metadata": {},
   "source": [
    "### Tensor Operations\n",
    "    1. Add\n",
    "    2. Sub  \n",
    "    3. Multiply \n",
    "    4. Div\n",
    "    5. Matrix Multiplication"
   ]
  },
  {
   "cell_type": "code",
   "execution_count": 71,
   "metadata": {},
   "outputs": [
    {
     "name": "stdout",
     "output_type": "stream",
     "text": [
      "tensor([11, 12, 13])\n",
      "tensor([11, 12, 13])\n"
     ]
    }
   ],
   "source": [
    "tensor = torch.tensor([1,2,3])\n",
    "print(tensor + 10)\n",
    "print(torch.add(tensor,10))"
   ]
  },
  {
   "cell_type": "code",
   "execution_count": 72,
   "metadata": {},
   "outputs": [
    {
     "name": "stdout",
     "output_type": "stream",
     "text": [
      "tensor([10, 20, 30])\n",
      "tensor([10, 20, 30])\n"
     ]
    }
   ],
   "source": [
    "print(tensor * 10)\n",
    "print(torch.mul(tensor,10))"
   ]
  },
  {
   "cell_type": "code",
   "execution_count": 73,
   "metadata": {},
   "outputs": [
    {
     "data": {
      "text/plain": [
       "tensor([0.1000, 0.2000, 0.3000])"
      ]
     },
     "execution_count": 73,
     "metadata": {},
     "output_type": "execute_result"
    }
   ],
   "source": [
    "tensor / 10"
   ]
  },
  {
   "cell_type": "code",
   "execution_count": 74,
   "metadata": {},
   "outputs": [
    {
     "data": {
      "text/plain": [
       "tensor([1, 4, 9])"
      ]
     },
     "execution_count": 74,
     "metadata": {},
     "output_type": "execute_result"
    }
   ],
   "source": [
    "#Hadamard Product\n",
    "tensor * tensor"
   ]
  },
  {
   "cell_type": "code",
   "execution_count": 75,
   "metadata": {},
   "outputs": [
    {
     "data": {
      "text/plain": [
       "tensor(14)"
      ]
     },
     "execution_count": 75,
     "metadata": {},
     "output_type": "execute_result"
    }
   ],
   "source": [
    "# Dot Product or matrix Multiplication\n",
    "torch.matmul(tensor,tensor)"
   ]
  },
  {
   "cell_type": "code",
   "execution_count": 76,
   "metadata": {},
   "outputs": [
    {
     "name": "stdout",
     "output_type": "stream",
     "text": [
      "Time\n",
      "CPU times: total: 0 ns\n",
      "Wall time: 14.5 ms\n"
     ]
    }
   ],
   "source": [
    "%%time\n",
    "torch.matmul(torch.rand(100,100,100),torch.rand(100,100,100))\n",
    "print(\"Time\")"
   ]
  },
  {
   "cell_type": "code",
   "execution_count": 77,
   "metadata": {},
   "outputs": [
    {
     "name": "stdout",
     "output_type": "stream",
     "text": [
      "tensor([[0.6461, 0.7988, 0.5537, 0.7409, 0.5308],\n",
      "        [1.9479, 1.4738, 1.4218, 1.5138, 1.5167],\n",
      "        [0.5579, 0.1651, 0.6141, 0.6592, 0.9074]], grad_fn=<AddBackward0>)\n"
     ]
    }
   ],
   "source": [
    "w = torch.rand(size=(3,4), requires_grad=True)\n",
    "x = torch.rand(size=(4,5))\n",
    "b = torch.rand(size=(3,5), requires_grad=True)\n",
    "y = torch.matmul(w,x) + b\n",
    "print(y)"
   ]
  },
  {
   "cell_type": "code",
   "execution_count": 78,
   "metadata": {},
   "outputs": [],
   "source": [
    "# y.backward()\n",
    "# print(x.grad)   #dy/dx\n",
    "# print(w.grad)   #dy/dw\n",
    "# print(b.grad)   #dy/db"
   ]
  },
  {
   "cell_type": "code",
   "execution_count": 79,
   "metadata": {},
   "outputs": [
    {
     "name": "stdout",
     "output_type": "stream",
     "text": [
      "tensor([0.6877], grad_fn=<AddBackward0>)\n"
     ]
    }
   ],
   "source": [
    "w = torch.rand(1, requires_grad=True)\n",
    "x = torch.rand(1)\n",
    "b = torch.rand(1, requires_grad=True)\n",
    "y = w * x + b\n",
    "print(y)"
   ]
  },
  {
   "cell_type": "code",
   "execution_count": 80,
   "metadata": {},
   "outputs": [
    {
     "name": "stdout",
     "output_type": "stream",
     "text": [
      "None\n",
      "tensor([0.5700])\n",
      "tensor([1.])\n"
     ]
    }
   ],
   "source": [
    "y.backward()\n",
    "print(x.grad)   #dy/dx\n",
    "print(w.grad)   #dy/dw\n",
    "print(b.grad)   #dy/db"
   ]
  },
  {
   "cell_type": "markdown",
   "metadata": {},
   "source": [
    "### Numpy and OpenCV and Pandas"
   ]
  },
  {
   "cell_type": "code",
   "execution_count": 81,
   "metadata": {},
   "outputs": [
    {
     "name": "stdout",
     "output_type": "stream",
     "text": [
      "[0.88470655 0.47054139 0.19236107]\n"
     ]
    }
   ],
   "source": [
    "x_np = np.random.rand(3)\n",
    "print(x_np)"
   ]
  },
  {
   "cell_type": "code",
   "execution_count": 82,
   "metadata": {},
   "outputs": [
    {
     "name": "stdout",
     "output_type": "stream",
     "text": [
      "tensor([0.8847, 0.4705, 0.1924], dtype=torch.float64)\n",
      "tensor([0.8847, 0.4705, 0.1924], dtype=torch.float64)\n"
     ]
    }
   ],
   "source": [
    "print(torch.from_numpy(x_np))   #no copy\n",
    "print(torch.tensor(x_np))       #copy"
   ]
  },
  {
   "cell_type": "code",
   "execution_count": 83,
   "metadata": {},
   "outputs": [
    {
     "name": "stdout",
     "output_type": "stream",
     "text": [
      "[[0.524692   0.43429244 0.3948334  0.59290016 0.02641702]\n",
      " [0.274615   0.00433534 0.5182861  0.45622802 0.00395507]\n",
      " [0.13385111 0.12794697 0.06631756 0.72735643 0.14970595]]\n"
     ]
    }
   ],
   "source": [
    "print(torch.rand(3,5).numpy())"
   ]
  },
  {
   "cell_type": "markdown",
   "metadata": {},
   "source": [
    "### Linear Regression"
   ]
  },
  {
   "cell_type": "code",
   "execution_count": 84,
   "metadata": {},
   "outputs": [],
   "source": [
    "import numpy as np\n",
    "import torch"
   ]
  },
  {
   "cell_type": "code",
   "execution_count": 85,
   "metadata": {},
   "outputs": [],
   "source": [
    "inputs = np.array([[73, 67, 43],\n",
    "                    [91,88,64],\n",
    "                    [87,134,58],\n",
    "                    [102,43,37],\n",
    "                    [69,96,70]], dtype='float32')\n",
    "\n",
    "targets = np.array( [[56, 70],\n",
    "                     [81, 101],\n",
    "                     [119, 133],\n",
    "                     [22, 37],\n",
    "                     [103, 119]], dtype='float32')"
   ]
  },
  {
   "cell_type": "code",
   "execution_count": 86,
   "metadata": {},
   "outputs": [],
   "source": [
    "inputs = torch.tensor(inputs)\n",
    "targets = torch.tensor(targets)"
   ]
  },
  {
   "cell_type": "code",
   "execution_count": 87,
   "metadata": {},
   "outputs": [],
   "source": [
    "w = torch.randn(2,3, requires_grad=True)        #normal Distribution value\n",
    "b = torch.randn(2, requires_grad=True)"
   ]
  },
  {
   "cell_type": "markdown",
   "metadata": {},
   "source": [
    "y = x * w.T + b"
   ]
  },
  {
   "cell_type": "code",
   "execution_count": 88,
   "metadata": {},
   "outputs": [],
   "source": [
    "def model(x):\n",
    "    return x @ w.t() + b"
   ]
  },
  {
   "cell_type": "code",
   "execution_count": 89,
   "metadata": {},
   "outputs": [
    {
     "name": "stdout",
     "output_type": "stream",
     "text": [
      "tensor([[-31.8119,  -9.9468],\n",
      "        [-44.0421, -10.5876],\n",
      "        [-85.3140,  22.7213],\n",
      "        [ -0.1131, -42.7217],\n",
      "        [-59.2617,   7.4201]], grad_fn=<AddBackward0>)\n",
      "tensor([[ 56.,  70.],\n",
      "        [ 81., 101.],\n",
      "        [119., 133.],\n",
      "        [ 22.,  37.],\n",
      "        [103., 119.]])\n"
     ]
    }
   ],
   "source": [
    "preds = model(inputs)\n",
    "print(preds)\n",
    "print(targets)"
   ]
  },
  {
   "cell_type": "code",
   "execution_count": 90,
   "metadata": {},
   "outputs": [],
   "source": [
    "def mse(t1,t2):\n",
    "    diff = t1 - t2                                  #diff is a matrix\n",
    "    return torch.sum(diff * diff)/ diff.numel()     #numel gives no of element"
   ]
  },
  {
   "cell_type": "code",
   "execution_count": 91,
   "metadata": {},
   "outputs": [
    {
     "name": "stdout",
     "output_type": "stream",
     "text": [
      "tensor(14171.8799, grad_fn=<DivBackward0>)\n"
     ]
    }
   ],
   "source": [
    "loss = mse(preds,targets)\n",
    "print(loss)"
   ]
  },
  {
   "cell_type": "code",
   "execution_count": 92,
   "metadata": {},
   "outputs": [
    {
     "name": "stdout",
     "output_type": "stream",
     "text": [
      "tensor([[ -9803.2021, -12158.6328,  -7161.0640],\n",
      "        [ -8283.0928,  -8818.6387,  -5547.1562]])\n",
      "tensor([-120.3086,  -98.6229])\n"
     ]
    }
   ],
   "source": [
    "loss.backward()\n",
    "print(w.grad)\n",
    "print(b.grad)"
   ]
  },
  {
   "cell_type": "code",
   "execution_count": 93,
   "metadata": {},
   "outputs": [
    {
     "name": "stdout",
     "output_type": "stream",
     "text": [
      "tensor([[0., 0., 0.],\n",
      "        [0., 0., 0.]])\n",
      "tensor([0., 0.])\n"
     ]
    }
   ],
   "source": [
    "w.grad.zero_()\n",
    "b.grad.zero_()\n",
    "print(w.grad)\n",
    "print(b.grad)"
   ]
  },
  {
   "cell_type": "code",
   "execution_count": 94,
   "metadata": {},
   "outputs": [],
   "source": [
    "with torch.no_grad():           #indicate Pytorch to not to track, calculate or modify gradients while updating the weights and bias\n",
    "    w -= w.grad * 1e-5\n",
    "    b -= b.grad * 1e-5\n",
    "    w.grad.zero_()\n",
    "    b.grad.zero_()\n"
   ]
  },
  {
   "cell_type": "code",
   "execution_count": 95,
   "metadata": {},
   "outputs": [],
   "source": [
    "#Multiple Epochs\n",
    "for i in range(40000):\n",
    "    preds = model(inputs)\n",
    "    loss = mse(preds, targets)\n",
    "    loss.backward()\n",
    "    with torch.no_grad():\n",
    "        w -= w.grad * 1e-5\n",
    "        b -= b.grad * 1e-5\n",
    "        w.grad.zero_()\n",
    "        b.grad.zero_()"
   ]
  },
  {
   "cell_type": "code",
   "execution_count": 96,
   "metadata": {},
   "outputs": [
    {
     "name": "stdout",
     "output_type": "stream",
     "text": [
      "tensor([[ 57.2954,  70.0155],\n",
      "        [ 82.1252, 100.8542],\n",
      "        [118.6719, 133.0064],\n",
      "        [ 21.0649,  37.0523],\n",
      "        [101.9414, 119.0906]], grad_fn=<AddBackward0>)\n",
      "tensor([[ 56.,  70.],\n",
      "        [ 81., 101.],\n",
      "        [119., 133.],\n",
      "        [ 22.,  37.],\n",
      "        [103., 119.]])\n"
     ]
    }
   ],
   "source": [
    "print(model(inputs))\n",
    "print(targets)"
   ]
  },
  {
   "cell_type": "markdown",
   "metadata": {},
   "source": [
    "Built-in Linear Regression"
   ]
  },
  {
   "cell_type": "code",
   "execution_count": 97,
   "metadata": {},
   "outputs": [],
   "source": [
    "import torch.nn as nn\n",
    "from torch.utils.data import TensorDataset, DataLoader\n",
    "import torch.nn.functional as F"
   ]
  },
  {
   "cell_type": "code",
   "execution_count": 98,
   "metadata": {},
   "outputs": [
    {
     "name": "stdout",
     "output_type": "stream",
     "text": [
      "<torch.utils.data.dataset.TensorDataset object at 0x000001A7A6EA7B90>\n",
      "(tensor([[ 73.,  67.,  43.],\n",
      "        [ 91.,  88.,  64.],\n",
      "        [ 87., 134.,  58.]]), tensor([[ 56.,  70.],\n",
      "        [ 81., 101.],\n",
      "        [119., 133.]]))\n"
     ]
    }
   ],
   "source": [
    "train_ds = TensorDataset(inputs,targets)        # ([[x]], [[y]])\n",
    "print(train_ds)\n",
    "print(train_ds[0:3])"
   ]
  },
  {
   "cell_type": "code",
   "execution_count": 99,
   "metadata": {},
   "outputs": [
    {
     "name": "stdout",
     "output_type": "stream",
     "text": [
      "<torch.utils.data.dataloader.DataLoader object at 0x000001A7B4CD9820>\n"
     ]
    }
   ],
   "source": [
    "batch_size = 2\n",
    "train_dl = DataLoader(train_ds, batch_size, shuffle=True)   #shuffle data before creating batches\n",
    "print(train_dl)"
   ]
  },
  {
   "cell_type": "code",
   "execution_count": 100,
   "metadata": {},
   "outputs": [
    {
     "name": "stdout",
     "output_type": "stream",
     "text": [
      "Batch: 1\n",
      "tensor([[69., 96., 70.],\n",
      "        [91., 88., 64.]])\n",
      "tensor([[103., 119.],\n",
      "        [ 81., 101.]])\n",
      "Batch: 2\n",
      "tensor([[102.,  43.,  37.],\n",
      "        [ 73.,  67.,  43.]])\n",
      "tensor([[22., 37.],\n",
      "        [56., 70.]])\n",
      "Batch: 3\n",
      "tensor([[ 87., 134.,  58.]])\n",
      "tensor([[119., 133.]])\n"
     ]
    }
   ],
   "source": [
    "batch_num = 1\n",
    "for xb, yb in train_dl:\n",
    "    print(\"Batch:\",batch_num)\n",
    "    batch_num+=1\n",
    "    print(xb)\n",
    "    print(yb)"
   ]
  },
  {
   "cell_type": "code",
   "execution_count": 101,
   "metadata": {},
   "outputs": [
    {
     "name": "stdout",
     "output_type": "stream",
     "text": [
      "Parameter containing:\n",
      "tensor([[-0.5732, -0.1160, -0.0963],\n",
      "        [-0.2861, -0.0956, -0.5450]], requires_grad=True)\n",
      "Parameter containing:\n",
      "tensor([0.4353, 0.3258], requires_grad=True)\n"
     ]
    }
   ],
   "source": [
    "model = nn.Linear(3, 2)          # 3inputs 2outputs\n",
    "print(model.weight)\n",
    "print(model.bias)"
   ]
  },
  {
   "cell_type": "code",
   "execution_count": 102,
   "metadata": {},
   "outputs": [
    {
     "data": {
      "text/plain": [
       "[Parameter containing:\n",
       " tensor([[-0.5732, -0.1160, -0.0963],\n",
       "         [-0.2861, -0.0956, -0.5450]], requires_grad=True),\n",
       " Parameter containing:\n",
       " tensor([0.4353, 0.3258], requires_grad=True)]"
      ]
     },
     "execution_count": 102,
     "metadata": {},
     "output_type": "execute_result"
    }
   ],
   "source": [
    "list(model.parameters())"
   ]
  },
  {
   "cell_type": "code",
   "execution_count": 103,
   "metadata": {},
   "outputs": [
    {
     "name": "stdout",
     "output_type": "stream",
     "text": [
      "tensor([[-53.3246, -50.3943],\n",
      "        [-68.1018, -68.9949],\n",
      "        [-70.5679, -68.9774],\n",
      "        [-66.5853, -53.1267],\n",
      "        [-56.9972, -66.7358]], grad_fn=<AddmmBackward0>)\n"
     ]
    }
   ],
   "source": [
    "preds = model(inputs)\n",
    "print(preds)"
   ]
  },
  {
   "cell_type": "code",
   "execution_count": 104,
   "metadata": {},
   "outputs": [],
   "source": [
    "loss_fn = F.mse_loss"
   ]
  },
  {
   "cell_type": "code",
   "execution_count": 105,
   "metadata": {},
   "outputs": [
    {
     "name": "stdout",
     "output_type": "stream",
     "text": [
      "Object `F.mse_loss         #Documentation` not found.\n"
     ]
    }
   ],
   "source": [
    "?F.mse_loss         #Documentation"
   ]
  },
  {
   "cell_type": "code",
   "execution_count": 106,
   "metadata": {},
   "outputs": [
    {
     "name": "stdout",
     "output_type": "stream",
     "text": [
      "tensor(23037.4199, grad_fn=<MseLossBackward0>)\n"
     ]
    }
   ],
   "source": [
    "loss = loss_fn(model(inputs), targets)\n",
    "print(loss)"
   ]
  },
  {
   "cell_type": "code",
   "execution_count": 107,
   "metadata": {},
   "outputs": [],
   "source": [
    "opt = torch.optim.SGD(model.parameters(), lr=1e-5)          #single grad update (calculate grad and update the w,b)\n",
    "#model.parameters is passed to know which parameters should be modified"
   ]
  },
  {
   "cell_type": "code",
   "execution_count": 108,
   "metadata": {},
   "outputs": [],
   "source": [
    "def fit(num_epochs, model, loss_fn, opt):\n",
    "    for epoch in range(num_epochs):\n",
    "        for xb, yb in train_dl:\n",
    "            preds = model(xb)\n",
    "            loss = loss_fn(preds,yb)            #loss is a tensor although scalar tensor\n",
    "            loss.backward()\n",
    "            opt.step()\n",
    "            opt.zero_grad()\n",
    "        if(epoch+1) % 10 == 0:\n",
    "            print('Epoch [{}/{}], Loss:{:.4f}'.format(epoch+1,num_epochs, loss.item()))"
   ]
  },
  {
   "cell_type": "code",
   "execution_count": 109,
   "metadata": {},
   "outputs": [
    {
     "name": "stdout",
     "output_type": "stream",
     "text": [
      "Epoch [10/1000], Loss:18.6932\n",
      "Epoch [20/1000], Loss:27.6123\n",
      "Epoch [30/1000], Loss:271.0341\n",
      "Epoch [40/1000], Loss:24.0920\n",
      "Epoch [50/1000], Loss:10.3392\n",
      "Epoch [60/1000], Loss:142.9062\n",
      "Epoch [70/1000], Loss:22.0425\n",
      "Epoch [80/1000], Loss:18.6170\n",
      "Epoch [90/1000], Loss:3.6557\n",
      "Epoch [100/1000], Loss:33.6664\n",
      "Epoch [110/1000], Loss:32.0683\n",
      "Epoch [120/1000], Loss:2.1226\n",
      "Epoch [130/1000], Loss:89.0285\n",
      "Epoch [140/1000], Loss:64.5280\n",
      "Epoch [150/1000], Loss:68.9641\n",
      "Epoch [160/1000], Loss:9.2573\n",
      "Epoch [170/1000], Loss:2.7058\n",
      "Epoch [180/1000], Loss:5.1989\n",
      "Epoch [190/1000], Loss:1.4191\n",
      "Epoch [200/1000], Loss:49.9690\n",
      "Epoch [210/1000], Loss:13.5382\n",
      "Epoch [220/1000], Loss:2.4072\n",
      "Epoch [230/1000], Loss:1.7551\n",
      "Epoch [240/1000], Loss:36.2919\n",
      "Epoch [250/1000], Loss:1.9631\n",
      "Epoch [260/1000], Loss:40.1589\n",
      "Epoch [270/1000], Loss:1.9021\n",
      "Epoch [280/1000], Loss:1.2994\n",
      "Epoch [290/1000], Loss:26.2048\n",
      "Epoch [300/1000], Loss:0.8782\n",
      "Epoch [310/1000], Loss:5.9640\n",
      "Epoch [320/1000], Loss:4.1876\n",
      "Epoch [330/1000], Loss:0.9185\n",
      "Epoch [340/1000], Loss:0.9550\n",
      "Epoch [350/1000], Loss:16.1640\n",
      "Epoch [360/1000], Loss:0.9446\n",
      "Epoch [370/1000], Loss:1.3456\n",
      "Epoch [380/1000], Loss:1.1308\n",
      "Epoch [390/1000], Loss:1.6078\n",
      "Epoch [400/1000], Loss:1.3013\n",
      "Epoch [410/1000], Loss:9.3491\n",
      "Epoch [420/1000], Loss:0.8508\n",
      "Epoch [430/1000], Loss:4.1391\n",
      "Epoch [440/1000], Loss:1.0953\n",
      "Epoch [450/1000], Loss:0.9936\n",
      "Epoch [460/1000], Loss:0.9338\n",
      "Epoch [470/1000], Loss:12.9608\n",
      "Epoch [480/1000], Loss:1.2228\n",
      "Epoch [490/1000], Loss:0.9857\n",
      "Epoch [500/1000], Loss:9.9906\n",
      "Epoch [510/1000], Loss:0.9199\n",
      "Epoch [520/1000], Loss:9.0219\n",
      "Epoch [530/1000], Loss:6.0812\n",
      "Epoch [540/1000], Loss:6.2873\n",
      "Epoch [550/1000], Loss:2.2822\n",
      "Epoch [560/1000], Loss:5.4099\n",
      "Epoch [570/1000], Loss:2.3010\n",
      "Epoch [580/1000], Loss:1.0512\n",
      "Epoch [590/1000], Loss:0.4229\n",
      "Epoch [600/1000], Loss:0.6808\n",
      "Epoch [610/1000], Loss:1.4875\n",
      "Epoch [620/1000], Loss:1.2601\n",
      "Epoch [630/1000], Loss:4.0122\n",
      "Epoch [640/1000], Loss:4.5203\n",
      "Epoch [650/1000], Loss:3.0338\n",
      "Epoch [660/1000], Loss:0.5528\n",
      "Epoch [670/1000], Loss:0.5395\n",
      "Epoch [680/1000], Loss:4.1892\n",
      "Epoch [690/1000], Loss:2.2908\n",
      "Epoch [700/1000], Loss:3.1026\n",
      "Epoch [710/1000], Loss:1.0946\n",
      "Epoch [720/1000], Loss:3.0641\n",
      "Epoch [730/1000], Loss:1.2625\n",
      "Epoch [740/1000], Loss:0.5166\n",
      "Epoch [750/1000], Loss:2.5498\n",
      "Epoch [760/1000], Loss:1.3478\n",
      "Epoch [770/1000], Loss:2.2174\n",
      "Epoch [780/1000], Loss:1.2207\n",
      "Epoch [790/1000], Loss:2.3790\n",
      "Epoch [800/1000], Loss:0.8792\n",
      "Epoch [810/1000], Loss:2.2443\n",
      "Epoch [820/1000], Loss:0.7120\n",
      "Epoch [830/1000], Loss:1.1294\n",
      "Epoch [840/1000], Loss:1.1684\n",
      "Epoch [850/1000], Loss:0.7432\n",
      "Epoch [860/1000], Loss:1.1758\n",
      "Epoch [870/1000], Loss:1.0286\n",
      "Epoch [880/1000], Loss:1.1572\n",
      "Epoch [890/1000], Loss:0.4140\n",
      "Epoch [900/1000], Loss:0.8891\n",
      "Epoch [910/1000], Loss:0.4748\n",
      "Epoch [920/1000], Loss:1.7174\n",
      "Epoch [930/1000], Loss:0.3815\n",
      "Epoch [940/1000], Loss:1.5533\n",
      "Epoch [950/1000], Loss:0.4717\n",
      "Epoch [960/1000], Loss:0.3149\n",
      "Epoch [970/1000], Loss:0.7421\n",
      "Epoch [980/1000], Loss:0.8879\n",
      "Epoch [990/1000], Loss:1.1340\n",
      "Epoch [1000/1000], Loss:0.9394\n"
     ]
    }
   ],
   "source": [
    "fit(1000, model, loss_fn, opt)"
   ]
  },
  {
   "cell_type": "markdown",
   "metadata": {},
   "source": [
    "### MNIST"
   ]
  },
  {
   "cell_type": "code",
   "execution_count": 110,
   "metadata": {},
   "outputs": [],
   "source": [
    "import torch\n",
    "import torchvision\n",
    "from torchvision.datasets import MNIST\n",
    "import matplotlib.pyplot as plt"
   ]
  },
  {
   "cell_type": "code",
   "execution_count": 111,
   "metadata": {},
   "outputs": [],
   "source": [
    "dataset = MNIST(root='data/', download=True)"
   ]
  },
  {
   "cell_type": "code",
   "execution_count": 112,
   "metadata": {},
   "outputs": [
    {
     "data": {
      "text/plain": [
       "60000"
      ]
     },
     "execution_count": 112,
     "metadata": {},
     "output_type": "execute_result"
    }
   ],
   "source": [
    "len(dataset)"
   ]
  },
  {
   "cell_type": "code",
   "execution_count": 113,
   "metadata": {},
   "outputs": [
    {
     "data": {
      "text/plain": [
       "10000"
      ]
     },
     "execution_count": 113,
     "metadata": {},
     "output_type": "execute_result"
    }
   ],
   "source": [
    "test_dataset = MNIST(root='data/', train=False)\n",
    "len(test_dataset)"
   ]
  },
  {
   "cell_type": "code",
   "execution_count": 114,
   "metadata": {},
   "outputs": [
    {
     "data": {
      "text/plain": [
       "(<PIL.Image.Image image mode=L size=28x28>, 5)"
      ]
     },
     "execution_count": 114,
     "metadata": {},
     "output_type": "execute_result"
    }
   ],
   "source": [
    "dataset[0]"
   ]
  },
  {
   "cell_type": "code",
   "execution_count": 115,
   "metadata": {},
   "outputs": [],
   "source": [
    "# %matplotlib inline      #Magic commands of Jupyter"
   ]
  },
  {
   "cell_type": "code",
   "execution_count": 116,
   "metadata": {},
   "outputs": [
    {
     "name": "stdout",
     "output_type": "stream",
     "text": [
      "5\n"
     ]
    },
    {
     "data": {
      "image/png": "[encoded data removed]",
      "text/plain": [
       "<Figure size 640x480 with 1 Axes>"
      ]
     },
     "metadata": {},
     "output_type": "display_data"
    }
   ],
   "source": [
    "image, label = dataset[0]\n",
    "plt.imshow(image, cmap='grey')\n",
    "print(label)"
   ]
  },
  {
   "cell_type": "code",
   "execution_count": 117,
   "metadata": {},
   "outputs": [],
   "source": [
    "import torchvision.transforms as transforms     #to transform loaded image to array / tensor"
   ]
  },
  {
   "cell_type": "code",
   "execution_count": 118,
   "metadata": {},
   "outputs": [],
   "source": [
    "dataset = MNIST(root='data/',\n",
    "                train=True,\n",
    "                transform=transforms.ToTensor())"
   ]
  },
  {
   "cell_type": "code",
   "execution_count": 119,
   "metadata": {},
   "outputs": [
    {
     "name": "stdout",
     "output_type": "stream",
     "text": [
      "torch.Size([1, 28, 28])\n",
      "5\n"
     ]
    }
   ],
   "source": [
    "img_tensor, label = dataset[0]\n",
    "print(img_tensor.shape)\n",
    "print(label)"
   ]
  },
  {
   "cell_type": "code",
   "execution_count": 120,
   "metadata": {},
   "outputs": [
    {
     "name": "stdout",
     "output_type": "stream",
     "text": [
      "tensor([[[0.0039, 0.6039, 0.9922, 0.3529, 0.0000],\n",
      "         [0.0000, 0.5451, 0.9922, 0.7451, 0.0078],\n",
      "         [0.0000, 0.0431, 0.7451, 0.9922, 0.2745],\n",
      "         [0.0000, 0.0000, 0.1373, 0.9451, 0.8824],\n",
      "         [0.0000, 0.0000, 0.0000, 0.3176, 0.9412]]])\n",
      "tensor(1.) tensor(0.)\n"
     ]
    }
   ],
   "source": [
    "print(img_tensor[:,10:15,10:15])        #matplotlib last dim as channel #pytorch 1st dim as channel\n",
    "print(torch.max(img_tensor),torch.min(img_tensor))"
   ]
  },
  {
   "cell_type": "code",
   "execution_count": 121,
   "metadata": {},
   "outputs": [],
   "source": [
    "def split_indices(n, val_pct):\n",
    "    n_val = int(val_pct*n)\n",
    "    idxs = np.random.permutation(n)             #generates an array of 0 to n-1 then permutate\n",
    "    return idxs[n_val:], idxs[:n_val]"
   ]
  },
  {
   "cell_type": "code",
   "execution_count": 122,
   "metadata": {},
   "outputs": [],
   "source": [
    "train_indices, val_indices = split_indices(len(dataset), val_pct=0.2)"
   ]
  },
  {
   "cell_type": "code",
   "execution_count": 123,
   "metadata": {},
   "outputs": [],
   "source": [
    "from torch.utils.data.dataloader import DataLoader\n",
    "from torch.utils.data.sampler import SubsetRandomSampler"
   ]
  },
  {
   "cell_type": "code",
   "execution_count": 124,
   "metadata": {},
   "outputs": [],
   "source": [
    "batch_size = 100\n",
    "train_sampler = SubsetRandomSampler(train_indices)\n",
    "train_loader = DataLoader(dataset,\n",
    "                          batch_size,\n",
    "                          sampler = train_sampler)\n",
    "\n",
    "val_sampler = SubsetRandomSampler(val_indices)\n",
    "val_loader = DataLoader(dataset,\n",
    "                        batch_size,\n",
    "                        sampler = val_sampler)"
   ]
  },
  {
   "cell_type": "code",
   "execution_count": 125,
   "metadata": {},
   "outputs": [],
   "source": [
    "import torch.nn as nn\n",
    "input_size = 28 * 28\n",
    "num_classes = 10"
   ]
  },
  {
   "cell_type": "code",
   "execution_count": 126,
   "metadata": {},
   "outputs": [],
   "source": [
    "model = nn.Linear(input_size, num_classes)      #input, neuron_count"
   ]
  },
  {
   "cell_type": "code",
   "execution_count": 127,
   "metadata": {},
   "outputs": [
    {
     "data": {
      "text/plain": [
       "Parameter containing:\n",
       "tensor([[-0.0004, -0.0263, -0.0222,  ...,  0.0232, -0.0252,  0.0234],\n",
       "        [-0.0237, -0.0034, -0.0262,  ...,  0.0074, -0.0034, -0.0345],\n",
       "        [ 0.0057, -0.0247,  0.0080,  ...,  0.0341,  0.0139, -0.0183],\n",
       "        ...,\n",
       "        [ 0.0031, -0.0068,  0.0333,  ...,  0.0231, -0.0210, -0.0114],\n",
       "        [ 0.0152, -0.0066, -0.0084,  ...,  0.0138, -0.0297, -0.0104],\n",
       "        [ 0.0126, -0.0064, -0.0085,  ..., -0.0041,  0.0133, -0.0109]],\n",
       "       requires_grad=True)"
      ]
     },
     "execution_count": 127,
     "metadata": {},
     "output_type": "execute_result"
    }
   ],
   "source": [
    "model.weight"
   ]
  },
  {
   "cell_type": "code",
   "execution_count": 128,
   "metadata": {},
   "outputs": [
    {
     "data": {
      "text/plain": [
       "Parameter containing:\n",
       "tensor([-0.0053, -0.0057, -0.0321, -0.0264, -0.0320, -0.0057, -0.0321, -0.0084,\n",
       "         0.0071,  0.0328], requires_grad=True)"
      ]
     },
     "execution_count": 128,
     "metadata": {},
     "output_type": "execute_result"
    }
   ],
   "source": [
    "model.bias"
   ]
  },
  {
   "cell_type": "code",
   "execution_count": 129,
   "metadata": {},
   "outputs": [
    {
     "name": "stdout",
     "output_type": "stream",
     "text": [
      "torch.Size([100, 1, 28, 28])\n",
      "torch.Size([100])\n"
     ]
    }
   ],
   "source": [
    "for x, y in train_loader:\n",
    "    print(x.shape)\n",
    "    print(y.shape)\n",
    "    # output = model(x)\n",
    "    break"
   ]
  },
  {
   "cell_type": "code",
   "execution_count": 130,
   "metadata": {},
   "outputs": [],
   "source": [
    "class MnistModel(nn.Module):\n",
    "    def __init__(self):\n",
    "        super().__init__()\n",
    "        self.linear = nn.Linear(input_size, num_classes)\n",
    "    \n",
    "    def forward(self, xb):\n",
    "        xb = xb.reshape(-1,28*28)       #-1 means pytorch adjust the value itself #here 100 (batchsize)\n",
    "        out = self.linear(xb)\n",
    "        return out\n",
    "\n",
    "model = MnistModel()"
   ]
  },
  {
   "cell_type": "code",
   "execution_count": 138,
   "metadata": {},
   "outputs": [],
   "source": [
    "for x ,y in train_loader:\n",
    "    output = model(x)\n",
    "    break"
   ]
  },
  {
   "cell_type": "code",
   "execution_count": 139,
   "metadata": {},
   "outputs": [],
   "source": [
    "import torch.nn.functional as F"
   ]
  },
  {
   "cell_type": "code",
   "execution_count": 140,
   "metadata": {},
   "outputs": [
    {
     "name": "stdout",
     "output_type": "stream",
     "text": [
      "tensor([[-0.1960, -0.0460,  0.2513, -0.0419,  0.0933, -0.0721, -0.1069, -0.1306,\n",
      "         -0.2207, -0.1757],\n",
      "        [-0.0373, -0.1742,  0.2405,  0.1763,  0.1195, -0.0065, -0.2064, -0.1168,\n",
      "         -0.2115, -0.3457]], grad_fn=<SliceBackward0>)\n",
      "-0.5620909333229065\n",
      "tensor([[0.0868, 0.1009, 0.1358, 0.1013, 0.1160, 0.0983, 0.0949, 0.0927, 0.0847,\n",
      "         0.0886],\n",
      "        [0.1003, 0.0874, 0.1324, 0.1241, 0.1173, 0.1034, 0.0847, 0.0926, 0.0842,\n",
      "         0.0737]])\n",
      "1.0\n"
     ]
    }
   ],
   "source": [
    "print(output[:2])\n",
    "print(torch.sum(output[1:2]).item()) \n",
    "\n",
    "probs = F.softmax(output, dim=1)\n",
    "\n",
    "print(probs[:2].data)\n",
    "print(torch.sum(probs[1:2].data).item())"
   ]
  },
  {
   "cell_type": "code",
   "execution_count": 146,
   "metadata": {},
   "outputs": [
    {
     "name": "stdout",
     "output_type": "stream",
     "text": [
      "tensor([0.1358, 0.1324, 0.1334, 0.1374, 0.1193, 0.1369, 0.1248, 0.1311, 0.1299,\n",
      "        0.1279, 0.1198, 0.1444, 0.1247, 0.1299, 0.1287, 0.1266, 0.1193, 0.1759,\n",
      "        0.1581, 0.1380, 0.1300, 0.1436, 0.1308, 0.1635, 0.1312, 0.1297, 0.1329,\n",
      "        0.1259, 0.1282, 0.1633, 0.1280, 0.1272, 0.1328, 0.1474, 0.1230, 0.1180,\n",
      "        0.1273, 0.1438, 0.1282, 0.1345, 0.1404, 0.1297, 0.1220, 0.1424, 0.1389,\n",
      "        0.1500, 0.1489, 0.1239, 0.1215, 0.1317, 0.1420, 0.1431, 0.1188, 0.1155,\n",
      "        0.1158, 0.1442, 0.1131, 0.1247, 0.1457, 0.1333, 0.1319, 0.1412, 0.1248,\n",
      "        0.1439, 0.1145, 0.1167, 0.1319, 0.1521, 0.1413, 0.1389, 0.1162, 0.1300,\n",
      "        0.1458, 0.1315, 0.1310, 0.1160, 0.1344, 0.1351, 0.1275, 0.1361, 0.1367,\n",
      "        0.1374, 0.1303, 0.1197, 0.1516, 0.1246, 0.1241, 0.1266, 0.1218, 0.1625,\n",
      "        0.1204, 0.1102, 0.1430, 0.1180, 0.1460, 0.1229, 0.1168, 0.1241, 0.1242,\n",
      "        0.1349], grad_fn=<MaxBackward0>)\n",
      "tensor([2, 2, 4, 2, 4, 2, 2, 7, 2, 5, 1, 2, 2, 2, 2, 4, 5, 2, 4, 2, 2, 5, 4, 4,\n",
      "        5, 2, 5, 5, 2, 5, 7, 2, 2, 2, 2, 5, 1, 2, 2, 2, 4, 3, 1, 3, 2, 4, 4, 2,\n",
      "        7, 2, 2, 3, 4, 9, 2, 4, 2, 9, 5, 3, 2, 5, 3, 2, 5, 7, 5, 2, 4, 5, 7, 2,\n",
      "        4, 4, 4, 5, 3, 4, 5, 3, 4, 3, 3, 4, 3, 2, 1, 2, 7, 2, 5, 5, 5, 2, 2, 5,\n",
      "        2, 2, 8, 3])\n"
     ]
    }
   ],
   "source": [
    "max_probs, preds = torch.max(probs, dim=1)\n",
    "print(max_probs)\n",
    "print(preds)"
   ]
  },
  {
   "cell_type": "code",
   "execution_count": 147,
   "metadata": {},
   "outputs": [],
   "source": [
    "def accuracy(l1,l2): \n",
    "    return torch.sum(l1 == l2).item() / len(l1)         #no differentiation possible"
   ]
  },
  {
   "cell_type": "code",
   "execution_count": 148,
   "metadata": {},
   "outputs": [
    {
     "data": {
      "text/plain": [
       "0.07"
      ]
     },
     "execution_count": 148,
     "metadata": {},
     "output_type": "execute_result"
    }
   ],
   "source": [
    "accuracy(preds,y)"
   ]
  },
  {
   "cell_type": "code",
   "execution_count": 149,
   "metadata": {},
   "outputs": [
    {
     "name": "stdout",
     "output_type": "stream",
     "text": [
      "tensor(2.3561, grad_fn=<NllLossBackward0>)\n"
     ]
    }
   ],
   "source": [
    "loss_fn = F.cross_entropy       #performs softmax internally + cross entropy loss\n",
    "loss = loss_fn(output,y)\n",
    "print(loss)                     # e^(-loss) is the accuracy %"
   ]
  },
  {
   "cell_type": "code",
   "execution_count": 150,
   "metadata": {},
   "outputs": [],
   "source": [
    "lr = 0.001\n",
    "optimizer = torch.optim.SGD(model.parameters(), lr= lr)"
   ]
  },
  {
   "cell_type": "code",
   "execution_count": 151,
   "metadata": {},
   "outputs": [],
   "source": [
    "def loss_batch(model, loss_func, xb, yb, opt = None, metric = None):\n",
    "    preds = model(xb)\n",
    "    loss = loss_func(preds,yb)\n",
    "\n",
    "    if opt is not None:\n",
    "        loss.backward()\n",
    "        opt.step()\n",
    "        opt.zero_grad()\n",
    "\n",
    "    metric_result = None\n",
    "    if metric is not None:\n",
    "        metric_result = metric(preds, yb)\n",
    "\n",
    "    return loss.item(), len(xb), metric_result"
   ]
  },
  {
   "cell_type": "code",
   "execution_count": 152,
   "metadata": {},
   "outputs": [],
   "source": [
    "def evaluate(model, loss_fn, valid_dl, metric=None):\n",
    "    with torch.no_grad():\n",
    "        results = [loss_batch(model,loss_fn,xb,yb,metric=metric)     for xb,yb in valid_dl]\n",
    "        losses, nums, metrics = zip(*results)\n",
    "        total = np.sum(nums)\n",
    "        avg_loss = np.sum(np.multiply(losses,nums)) / total\n",
    "        avg_metric = None \n",
    "        if metric is not None:\n",
    "            avg_metric = np.sum(np.multiply(metrics,nums)) / total\n",
    "    return avg_loss, total, avg_metric"
   ]
  },
  {
   "cell_type": "code",
   "execution_count": 154,
   "metadata": {},
   "outputs": [],
   "source": [
    "def accuracy(outputs, labels):\n",
    "    _, preds = torch.max(outputs, dim=1)\n",
    "    return torch.sum(preds == labels).item() / len(preds)"
   ]
  },
  {
   "cell_type": "markdown",
   "metadata": {},
   "source": [
    "DEEP NEURAL NETWORK"
   ]
  },
  {
   "cell_type": "code",
   "execution_count": 155,
   "metadata": {},
   "outputs": [],
   "source": [
    "class MnistModel(nn.Module):\n",
    "    def __init__():\n",
    "        super().__init__()\n",
    "        self.linear1 = nn.Linear(in_size, hidden_size)\n",
    "        self.linear2 = nn.Linear(hidden_size, out_size)\n",
    "    \n",
    "    def forward(self,xb):\n",
    "        xb = xb.view(xb.size(0),-1)\n",
    "        out = self.linear1(xb)\n",
    "        out = F.relu(out)\n",
    "        out = self.linear2(out)\n",
    "        return out"
   ]
  },
  {
   "cell_type": "code",
   "execution_count": 157,
   "metadata": {},
   "outputs": [],
   "source": [
    "# model = nn.Sequential(nn.Linear(n_input, n_hidden),\n",
    "#                       nn.ReLU(),\n",
    "#                       nn.Linear(n_hidden, n_out),\n",
    "#                       nn.Sigmoid())"
   ]
  },
  {
   "cell_type": "code",
   "execution_count": null,
   "metadata": {},
   "outputs": [],
   "source": [
    "# losses = []\n",
    "# for epoch in range(5000):\n",
    "#     pred_y = model(data_x)\n",
    "#     loss = loss_function(pred_y, data_y)\n",
    "#     losses.append(loss.item())\n",
    "\n",
    "#     loss.backward()\n",
    "#     optimizer.step()\n",
    "#     model.zero_grad()"
   ]
  }
 ],
 "metadata": {
  "kernelspec": {
   "display_name": "torch",
   "language": "python",
   "name": "python3"
  },
  "language_info": {
   "codemirror_mode": {
    "name": "ipython",
    "version": 3
   },
   "file_extension": ".py",
   "mimetype": "text/x-python",
   "name": "python",
   "nbconvert_exporter": "python",
   "pygments_lexer": "ipython3",
   "version": "3.12.5"
  }
 },
 "nbformat": 4,
 "nbformat_minor": 2
}
