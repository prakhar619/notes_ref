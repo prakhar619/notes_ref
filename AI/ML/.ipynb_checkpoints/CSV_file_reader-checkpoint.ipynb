{
 "cells": [
  {
   "cell_type": "code",
   "execution_count": 2,
   "id": "68282776",
   "metadata": {},
   "outputs": [],
   "source": [
    "#assumed no field empty\n",
    "#col indexing start from zero\n",
    "y_label_col = 8\n",
    "ignored_col = [9]\n",
    "filename = \"./housing.csv\"\n",
    "\n",
    "x_data = []\n",
    "y_label = []\n",
    "fields  = []\n",
    "import csv\n",
    "with open(filename,'r') as csvfile:\n",
    "    csvreader = csv.reader(csvfile)\n",
    "    flg = 1\n",
    "    for row in csvreader:\n",
    "        row_list = []\n",
    "        feature_no = 0\n",
    "        for item in row:\n",
    "            if(feature_no == y_label_col):\n",
    "                if(flg == 0):\n",
    "                    y_label.append(float(item))\n",
    "            elif(not( feature_no in ignored_col)):\n",
    "                if(flg == 1):\n",
    "                    field.append(item)\n",
    "                else:\n",
    "                    row_list.append(float(item))\n",
    "            feature_no+=1\n",
    "        flg = 0\n",
    "        x_data.append(row_list)\n"
   ]
  },
  {
   "cell_type": "code",
   "execution_count": 3,
   "id": "938c0b21",
   "metadata": {},
   "outputs": [
    {
     "data": {
      "text/plain": [
       "'longitude'"
      ]
     },
     "execution_count": 3,
     "metadata": {},
     "output_type": "execute_result"
    }
   ],
   "source": [
    "field[0]"
   ]
  },
  {
   "cell_type": "code",
   "execution_count": 5,
   "id": "9b3b6b8e",
   "metadata": {},
   "outputs": [
    {
     "data": {
      "text/plain": [
       "[-122.23, 37.88, 41.0, 880.0, 129.0, 322.0, 126.0, 8.3252]"
      ]
     },
     "execution_count": 5,
     "metadata": {},
     "output_type": "execute_result"
    }
   ],
   "source": [
    "x_data[0]"
   ]
  },
  {
   "cell_type": "code",
   "execution_count": null,
   "id": "55ba3e53",
   "metadata": {},
   "outputs": [],
   "source": []
  }
 ],
 "metadata": {
  "kernelspec": {
   "display_name": "Python 3 (ipykernel)",
   "language": "python",
   "name": "python3"
  },
  "language_info": {
   "codemirror_mode": {
    "name": "ipython",
    "version": 3
   },
   "file_extension": ".py",
   "mimetype": "text/x-python",
   "name": "python",
   "nbconvert_exporter": "python",
   "pygments_lexer": "ipython3",
   "version": "3.10.6"
  }
 },
 "nbformat": 4,
 "nbformat_minor": 5
}
