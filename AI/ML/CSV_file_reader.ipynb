{
 "cells": [
  {
   "cell_type": "code",
   "execution_count": 46,
   "id": "68282776",
   "metadata": {},
   "outputs": [],
   "source": [
    "def csv_fileReader():\n",
    "    #assumed no field empty\n",
    "    #col indexing start from zero\n",
    "    y_label_col = 8\n",
    "    ignored_col = [9]\n",
    "    filename = \"./housing.csv\"\n",
    "\n",
    "    x_data = []\n",
    "    y_label = []\n",
    "    fields  = []\n",
    "    import csv\n",
    "    with open(filename,'r') as csvfile:\n",
    "        csvreader = csv.reader(csvfile)\n",
    "        flg = 1\n",
    "        for row in csvreader:\n",
    "            row_list = []\n",
    "            feature_no = 0\n",
    "            for item in row:\n",
    "                if(feature_no == y_label_col):\n",
    "                    if(flg == 0):\n",
    "                        y_label.append(float(item))\n",
    "                elif(not( feature_no in ignored_col)):\n",
    "                    if(flg == 1):\n",
    "                        fields.append(item)\n",
    "                    else:\n",
    "                        row_list.append(float(item))\n",
    "                feature_no+=1\n",
    "            if(flg == 1):\n",
    "                flg = 0\n",
    "            else:\n",
    "                x_data.append(row_list)\n",
    "    \n",
    "    return x_data,y_label,fields\n"
   ]
  },
  {
   "cell_type": "code",
   "execution_count": 48,
   "id": "102ecb28",
   "metadata": {},
   "outputs": [
    {
     "data": {
      "text/plain": [
       "['longitude',\n",
       " 'latitude',\n",
       " 'housing_median_age',\n",
       " 'total_rooms',\n",
       " 'total_bedrooms',\n",
       " 'population',\n",
       " 'households',\n",
       " 'median_income']"
      ]
     },
     "execution_count": 48,
     "metadata": {},
     "output_type": "execute_result"
    }
   ],
   "source": [
    "csv_fileReader()[2]"
   ]
  },
  {
   "cell_type": "code",
   "execution_count": null,
   "id": "7e0ad708",
   "metadata": {},
   "outputs": [],
   "source": []
  },
  {
   "cell_type": "code",
   "execution_count": null,
   "id": "dbff80bd",
   "metadata": {},
   "outputs": [],
   "source": []
  },
  {
   "cell_type": "code",
   "execution_count": null,
   "id": "65e86089",
   "metadata": {},
   "outputs": [],
   "source": []
  }
 ],
 "metadata": {
  "kernelspec": {
   "display_name": "Python 3 (ipykernel)",
   "language": "python",
   "name": "python3"
  },
  "language_info": {
   "codemirror_mode": {
    "name": "ipython",
    "version": 3
   },
   "file_extension": ".py",
   "mimetype": "text/x-python",
   "name": "python",
   "nbconvert_exporter": "python",
   "pygments_lexer": "ipython3",
   "version": "3.10.6"
  }
 },
 "nbformat": 4,
 "nbformat_minor": 5
}
