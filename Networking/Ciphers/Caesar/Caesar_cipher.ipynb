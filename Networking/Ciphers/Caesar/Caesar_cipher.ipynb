{
 "cells": [
  {
   "cell_type": "code",
   "execution_count": 25,
   "id": "ebc929c2",
   "metadata": {},
   "outputs": [
    {
     "name": "stdout",
     "output_type": "stream",
     "text": [
      "Edward Henry Purcell (died 1765), organist, was the son of Edward Purcell and grandson of the English Baroque master, Henry Purcell. He was a chorister in the Chapel Royal in 1737.[1] Upon the death of his father in 1740, he succeeded him as organist of St Clement, Eastcheap.  He was also organist of St Edmund, King and Martyr, between 10 September 1747 and 10 October 1753, from whence he became organist at St John, Hackney,[2] all the while retaining his post at St Clement's. (N.B. the present Hackney church is a later building). At Hackney he was rebuked for lightness and for irregular attendance.[3]  It may be that Edward Henry is the same Purcell, a printer, who was publishing music at the sign of the Handel's Head, Wood Street in 1751.[4]  Evidently Edward Henry was living very close to poverty at the end of his life, for it was noted in the 20 June 1761 edition of the London Gazette that he was being pursued for debt:  An Act for Relief of Insolvent Debtors, I do hereby give Notice, That I intend to Compel Edward Henry Purcell, late of Mincing Lane, London, Musician, who is a Prisoner in the Custody of the Keeper of the King's Bench Prison, in the County of Surry, [...] to deliver in and subscribe upon Oath a Schedule of his Estate and Effects [...] Witness my hand the 22d day of June, 1761. Henry Saffory.[5]  He was buried, alongside his father, near the organ gallery in St Clement Eastcheap.\n"
     ]
    }
   ],
   "source": [
    "key = 6\n",
    "cipher_text = \"\"\n",
    "plain_text = input()"
   ]
  },
  {
   "cell_type": "code",
   "execution_count": 26,
   "id": "00bbf216",
   "metadata": {},
   "outputs": [
    {
     "name": "stdout",
     "output_type": "stream",
     "text": [
      "KJ]GXJ&NKTX_&V[XIKRR&.JOKJ&7=<;/2&UXMGTOYZ2&]GY&ZNK&YUT&UL&KJ]GXJ&V[XIKRR&GTJ&MXGTJYUT&UL&ZNK&KTMROYN&HGXUW[K&SGYZKX2&NKTX_&V[XIKRR4&NK&]GY&G&INUXOYZKX&OT&ZNK&INGVKR&XU_GR&OT&7=9=4a7c&[VUT&ZNK&JKGZN&UL&NOY&LGZNKX&OT&7=:62&NK&Y[IIKKJKJ&NOS&GY&UXMGTOYZ&UL&YZ&IRKSKTZ2&KGYZINKGV4&&NK&]GY&GRYU&UXMGTOYZ&UL&YZ&KJS[TJ2&QOTM&GTJ&SGXZ_X2&HKZ]KKT&76&YKVZKSHKX&7=:=&GTJ&76&UIZUHKX&7=;92&LXUS&]NKTIK&NK&HKIGSK&UXMGTOYZ&GZ&YZ&PUNT2&NGIQTK_2a8c&GRR&ZNK&]NORK&XKZGOTOTM&NOY&VUYZ&GZ&YZ&IRKSKTZ-Y4&.T4H4&ZNK&VXKYKTZ&NGIQTK_&IN[XIN&OY&G&RGZKX&H[ORJOTM/4&GZ&NGIQTK_&NK&]GY&XKH[QKJ&LUX&ROMNZTKYY&GTJ&LUX&OXXKM[RGX&GZZKTJGTIK4a9c&&OZ&SG_&HK&ZNGZ&KJ]GXJ&NKTX_&OY&ZNK&YGSK&V[XIKRR2&G&VXOTZKX2&]NU&]GY&V[HROYNOTM&S[YOI&GZ&ZNK&YOMT&UL&ZNK&NGTJKR-Y&NKGJ2&]UUJ&YZXKKZ&OT&7=;74a:c&&K\\OJKTZR_&KJ]GXJ&NKTX_&]GY&RO\\OTM&\\KX_&IRUYK&ZU&VU\\KXZ_&GZ&ZNK&KTJ&UL&NOY&ROLK2&LUX&OZ&]GY&TUZKJ&OT&ZNK&86&P[TK&7=<7&KJOZOUT&UL&ZNK&RUTJUT&MG`KZZK&ZNGZ&NK&]GY&HKOTM&V[XY[KJ&LUX&JKHZ@&&GT&GIZ&LUX&XKROKL&UL&OTYUR\\KTZ&JKHZUXY2&O&JU&NKXKH_&MO\\K&TUZOIK2&ZNGZ&O&OTZKTJ&ZU&IUSVKR&KJ]GXJ&NKTX_&V[XIKRR2&RGZK&UL&SOTIOTM&RGTK2&RUTJUT2&S[YOIOGT2&]NU&OY&G&VXOYUTKX&OT&ZNK&I[YZUJ_&UL&ZNK&QKKVKX&UL&ZNK&QOTM-Y&HKTIN&VXOYUT2&OT&ZNK&IU[TZ_&UL&Y[XX_2&a444c&ZU&JKRO\\KX&OT&GTJ&Y[HYIXOHK&[VUT&UGZN&G&YINKJ[RK&UL&NOY&KYZGZK&GTJ&KLLKIZY&a444c&]OZTKYY&S_&NGTJ&ZNK&88J&JG_&UL&P[TK2&7=<74&NKTX_&YGLLUX_4a;c&&NK&]GY&H[XOKJ2&GRUTMYOJK&NOY&LGZNKX2&TKGX&ZNK&UXMGT&MGRRKX_&OT&YZ&IRKSKTZ&KGYZINKGV4\n"
     ]
    }
   ],
   "source": [
    "plain_text = plain_text.upper()\n",
    "for i in plain_text:\n",
    "        cipher_text +=chr((ord(i)+key)%128)\n",
    "print(cipher_text)"
   ]
  },
  {
   "cell_type": "code",
   "execution_count": null,
   "id": "582f1acd",
   "metadata": {},
   "outputs": [],
   "source": []
  },
  {
   "cell_type": "code",
   "execution_count": null,
   "id": "c6d9d891",
   "metadata": {},
   "outputs": [],
   "source": []
  }
 ],
 "metadata": {
  "kernelspec": {
   "display_name": "Python 3 (ipykernel)",
   "language": "python",
   "name": "python3"
  },
  "language_info": {
   "codemirror_mode": {
    "name": "ipython",
    "version": 3
   },
   "file_extension": ".py",
   "mimetype": "text/x-python",
   "name": "python",
   "nbconvert_exporter": "python",
   "pygments_lexer": "ipython3",
   "version": "3.10.6"
  }
 },
 "nbformat": 4,
 "nbformat_minor": 5
}
