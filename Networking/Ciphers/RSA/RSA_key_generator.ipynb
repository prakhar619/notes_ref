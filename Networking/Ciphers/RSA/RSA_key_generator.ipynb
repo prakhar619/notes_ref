{
 "cells": [
  {
   "cell_type": "code",
   "execution_count": 78,
   "id": "32773995",
   "metadata": {},
   "outputs": [],
   "source": [
    "import numpy as math"
   ]
  },
  {
   "cell_type": "code",
   "execution_count": 275,
   "id": "9b6802f8",
   "metadata": {},
   "outputs": [],
   "source": [
    "p = 939193\n",
    "q = 993319\n",
    "e = 17 #default other values also valid as long long as e: 1<e<totient and e,totient are co prime"
   ]
  },
  {
   "cell_type": "code",
   "execution_count": 276,
   "id": "e484c11b",
   "metadata": {},
   "outputs": [],
   "source": [
    "totient = (p-1)*(q-1)\n",
    "d = inverse_mod(e,totient)\n",
    "n = p*q"
   ]
  },
  {
   "cell_type": "code",
   "execution_count": 277,
   "id": "f937509b",
   "metadata": {},
   "outputs": [],
   "source": [
    "def extended_euclid_gcd(a,b):\n",
    "    if(a<b):\n",
    "        a,b = b,a\n",
    "    if(b==0):\n",
    "        gcd = a\n",
    "        return gcd,0,1\n",
    "    x1,y1 = 0,0\n",
    "    gcd,x1,y1 = extended_euclid_gcd(b,a%b)\n",
    "    x = y1 - int((a/b)) * x1\n",
    "    y = x1;\n",
    "    return gcd,x,y"
   ]
  },
  {
   "cell_type": "code",
   "execution_count": 283,
   "id": "6c708ebf",
   "metadata": {},
   "outputs": [],
   "source": [
    "def inverse_mod(a, base):\n",
    "    gcd,x,y = extended_euclid_gcd(a,base)\n",
    "    if(gcd != 1):\n",
    "        print(\"Inverse dont exist\")\n",
    "        return\n",
    "    return ((x%base)+base)%base"
   ]
  },
  {
   "cell_type": "code",
   "execution_count": 284,
   "id": "fa261490",
   "metadata": {},
   "outputs": [
    {
     "name": "stdout",
     "output_type": "stream",
     "text": [
      "Public key: 932918251567 17\n",
      "Private key: 384142013729 932918251567\n"
     ]
    }
   ],
   "source": [
    "print(\"Public key:\",n,e)\n",
    "print(\"Private key:\",d,n)"
   ]
  },
  {
   "cell_type": "code",
   "execution_count": 296,
   "id": "b1705c19",
   "metadata": {},
   "outputs": [
    {
     "name": "stdout",
     "output_type": "stream",
     "text": [
      "7654321\n",
      "360788867377\n"
     ]
    }
   ],
   "source": [
    "plain_text = int(input())\n",
    "cipher_text = (plain_text**e)%n\n",
    "print(cipher_text)"
   ]
  },
  {
   "cell_type": "code",
   "execution_count": 293,
   "id": "fbc1a2cc",
   "metadata": {},
   "outputs": [
    {
     "ename": "KeyboardInterrupt",
     "evalue": "",
     "output_type": "error",
     "traceback": [
      "\u001b[0;31m---------------------------------------------------------------------------\u001b[0m",
      "\u001b[0;31mKeyboardInterrupt\u001b[0m                         Traceback (most recent call last)",
      "Cell \u001b[0;32mIn[293], line 1\u001b[0m\n\u001b[0;32m----> 1\u001b[0m decipher_text \u001b[38;5;241m=\u001b[39m (\u001b[43mcipher_text\u001b[49m\u001b[38;5;241;43m*\u001b[39;49m\u001b[38;5;241;43m*\u001b[39;49m\u001b[43md\u001b[49m)\u001b[38;5;241m%\u001b[39mn\n\u001b[1;32m      2\u001b[0m \u001b[38;5;28mprint\u001b[39m(decipher_text)\n",
      "\u001b[0;31mKeyboardInterrupt\u001b[0m: "
     ]
    }
   ],
   "source": [
    "decipher_text = (cipher_text**d)%n\n",
    "print(decipher_text)"
   ]
  },
  {
   "cell_type": "code",
   "execution_count": 297,
   "id": "b6eb9bb2",
   "metadata": {},
   "outputs": [
    {
     "name": "stdout",
     "output_type": "stream",
     "text": [
      "276233\n",
      "116861\n",
      "803994\n"
     ]
    }
   ],
   "source": [
    "d_p = d%(p-1)\n",
    "print(d_p)\n",
    "d_q = d%(q-1)\n",
    "print(d_q)\n",
    "q_inv = inverse_mod(q,p)\n",
    "print(q_inv)"
   ]
  },
  {
   "cell_type": "code",
   "execution_count": 298,
   "id": "9ddaa800",
   "metadata": {},
   "outputs": [
    {
     "name": "stdout",
     "output_type": "stream",
     "text": [
      "57508904593\n"
     ]
    }
   ],
   "source": [
    "m1 = (cipher_text**d_p)%p\n",
    "m2 = (cipher_text**d_q)%q\n",
    "h = (q_inv*(m1-m2))%p\n",
    "m = m2+h*q\n",
    "print(m)"
   ]
  },
  {
   "cell_type": "code",
   "execution_count": null,
   "id": "cf112978",
   "metadata": {},
   "outputs": [],
   "source": []
  },
  {
   "cell_type": "code",
   "execution_count": null,
   "id": "9c6ee235",
   "metadata": {},
   "outputs": [],
   "source": []
  }
 ],
 "metadata": {
  "kernelspec": {
   "display_name": "Python 3 (ipykernel)",
   "language": "python",
   "name": "python3"
  },
  "language_info": {
   "codemirror_mode": {
    "name": "ipython",
    "version": 3
   },
   "file_extension": ".py",
   "mimetype": "text/x-python",
   "name": "python",
   "nbconvert_exporter": "python",
   "pygments_lexer": "ipython3",
   "version": "3.10.6"
  }
 },
 "nbformat": 4,
 "nbformat_minor": 5
}
